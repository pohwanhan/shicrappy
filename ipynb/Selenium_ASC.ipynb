{
 "cells": [
  {
   "cell_type": "code",
   "execution_count": 1,
   "metadata": {},
   "outputs": [],
   "source": [
    "import selenium\n",
    "from selenium import webdriver"
   ]
  },
  {
   "cell_type": "code",
   "execution_count": 2,
   "metadata": {},
   "outputs": [],
   "source": [
    "# To link to the website\n",
    "\n",
    "driver = webdriver.Firefox()\n",
    "driver.get(\"https://asc-asia.com/asc-liner/schedules/\")"
   ]
  },
  {
   "cell_type": "code",
   "execution_count": 5,
   "metadata": {},
   "outputs": [],
   "source": [
    "#To expand the button selection\n",
    "button = driver.find_element_by_xpath(\"//span[@class='accordion_mark_icon']\")\n",
    "\n",
    "button.click()"
   ]
  },
  {
   "cell_type": "code",
   "execution_count": 14,
   "metadata": {},
   "outputs": [],
   "source": [
    "#get vessel name\n",
    "accordian_holder = driver.find_element_by_xpath(\"//div[@class='q_accordion_holder clearfix wpb_content_element accordion without_icon  not-column-inherit ui-accordion ui-widget ui-helper-reset']\")\n",
    "vessel_name = accordian_holder.find_element_by_class_name(\"tab-title\").text.split(\" - \")[0]\n",
    "\n"
   ]
  },
  {
   "cell_type": "code",
   "execution_count": 15,
   "metadata": {},
   "outputs": [
    {
     "name": "stdout",
     "output_type": "stream",
     "text": [
      "[['MV BORKUM', 'BK1902', 'Christmas Island', '02 June 2019'], ['MV BORKUM', 'BK1902', 'Singapore', '05 June 2019'], ['MV BORKUM', 'BK1903', 'Singapore', '06 June 2019'], ['MV BORKUM', 'BK1903', 'Laem Chabang*', '10 June 2019'], ['MV BORKUM', 'BK1903', 'Vung Tau*', '13 June 2019'], ['MV BORKUM', 'BK1903', 'Singapore', '15 June 2019'], ['MV BORKUM', 'BK1903', 'Ciwandan', '18 June 2019'], ['MV BORKUM', 'BK1903', 'Dampier', '23 June 2019'], ['MV BORKUM', 'BK1903', 'Fremantle', '27 June 2019'], ['MV BORKUM', 'BK1903', 'Christmas Island', '12 July 2019'], ['MV BORKUM', 'BK1903', 'Singapore', '16 July 2019']]\n"
     ]
    }
   ],
   "source": [
    "# get number of tables\n",
    "tables = accordian_holder.find_elements_by_tag_name(\"table\")\n",
    "number_of_tables = len(tables)\n",
    "asc_table_values = []\n",
    "\n",
    "# loop each table \n",
    "for n in range(0, number_of_tables):\n",
    "    table = tables[n]\n",
    "    # get voyage number of table\n",
    "    table_voyage_number = table.find_element_by_tag_name(\"thead\").find_element_by_tag_name(\"tr\").find_elements_by_tag_name(\"th\")[1].text\n",
    "    # get all rows of table\n",
    "    table_tbody = table.find_element_by_tag_name(\"tbody\")\n",
    "    table_tbody_rows = table_tbody.find_elements_by_tag_name(\"tr\")\n",
    "    # get the text in rows\n",
    "    for i in range(1, len(table_tbody_rows)):\n",
    "        table_tds = table_tbody_rows[i].find_elements_by_tag_name(\"td\")\n",
    "        table_destination = table_tds[0].text\n",
    "        table_date = table_tds[1].text\n",
    "        # append in list\n",
    "        if table_date != '' and table_destination != '':\n",
    "            asc_table_values.append([vessel_name, table_voyage_number, table_destination, table_date])\n",
    "        \n",
    "print(asc_table_values)"
   ]
  },
  {
   "cell_type": "code",
   "execution_count": null,
   "metadata": {},
   "outputs": [],
   "source": []
  }
 ],
 "metadata": {
  "kernelspec": {
   "display_name": "Python 3",
   "language": "python",
   "name": "python3"
  },
  "language_info": {
   "codemirror_mode": {
    "name": "ipython",
    "version": 3
   },
   "file_extension": ".py",
   "mimetype": "text/x-python",
   "name": "python",
   "nbconvert_exporter": "python",
   "pygments_lexer": "ipython3",
   "version": "3.7.3"
  }
 },
 "nbformat": 4,
 "nbformat_minor": 2
}
