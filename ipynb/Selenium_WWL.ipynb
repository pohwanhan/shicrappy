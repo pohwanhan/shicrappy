{
 "cells": [
  {
   "cell_type": "code",
   "execution_count": 193,
   "metadata": {},
   "outputs": [],
   "source": [
    "import selenium\n",
    "from selenium import webdriver\n",
    "from selenium.webdriver.common.by import By\n",
    "from selenium.webdriver.support.ui import WebDriverWait\n",
    "from selenium.webdriver.support import expected_conditions as EC"
   ]
  },
  {
   "cell_type": "code",
   "execution_count": 194,
   "metadata": {},
   "outputs": [],
   "source": [
    "driver = webdriver.Firefox()\n",
    "\n",
    "#for website to load\n",
    "driver.implicitly_wait(20)\n",
    "driver.get(\"https://www.2wglobal.com/webapps?minHt=480&htMethod=bodyLastElem&frameId=155887449539736850&url=https%3A%2F%2Fschedule.2wglobal.com%2FScheduleRWD%2F\")\n",
    "\n"
   ]
  },
  {
   "cell_type": "code",
   "execution_count": 195,
   "metadata": {},
   "outputs": [],
   "source": [
    "#click routes\n",
    "frame = driver.find_element_by_xpath(\"//iframe[@id='contentFrame']\")\n",
    "driver.switch_to.frame(frame)\n",
    "click_routes = driver.find_element_by_xpath(\"//a[@ui-sref = 'scheduleRoute']\").click()"
   ]
  },
  {
   "cell_type": "code",
   "execution_count": 196,
   "metadata": {},
   "outputs": [],
   "source": [
    "#click Asia\n",
    "click_asia = driver.find_element_by_xpath(\"//button[text()='Asia']\").click()"
   ]
  },
  {
   "cell_type": "code",
   "execution_count": 197,
   "metadata": {},
   "outputs": [],
   "source": [
    "#click Inter-Asia Outbound\n",
    "click_interasia = driver.find_element_by_xpath(\"//li[@ng-repeat='a in route.tradeRouteOutbound.slice(route.tradeRouteOutboundMid)  track by a.routeId']\").click()"
   ]
  },
  {
   "cell_type": "code",
   "execution_count": 198,
   "metadata": {},
   "outputs": [],
   "source": [
    "#click List\n",
    "click_list = driver.find_element_by_xpath(\"//a[@class = 'list']\").click()"
   ]
  },
  {
   "cell_type": "code",
   "execution_count": 199,
   "metadata": {},
   "outputs": [],
   "source": [
    "\n",
    "wwl_table = driver.find_element_by_xpath(\"//div[@id='relativePositionFix']\")\n",
    "\n",
    "#get vessel name\n",
    "tables = wwl_table.find_elements_by_tag_name(\"table\")\n",
    "\n",
    "#there are 2 tables in the web html\n",
    "header_table = tables[0]\n",
    "vessel_table = tables[1]\n",
    "\n",
    "country_header_table = header_table.find_elements_by_tag_name(\"tr\")\n",
    "country_vessel_table = vessel_table.find_elements_by_tag_name(\"tr\")\n",
    "\n",
    "table_rows = len(country_vessel_table)\n",
    "table_columns = len(country_vessel_table[0].find_elements_by_tag_name(\"td\"))\n",
    "\n"
   ]
  },
  {
   "cell_type": "code",
   "execution_count": 190,
   "metadata": {},
   "outputs": [],
   "source": [
    "wwl_table_values = []\n",
    "\n",
    "for i in range(0, table_columns):\n",
    "    wwl_vessel_name = country_vessel_table[0].find_elements_by_tag_name(\"td\")[i].text\n",
    "    wwl_voyage_no = country_vessel_table[1].find_elements_by_tag_name(\"td\")[i].text\n",
    "    wwl_imo_no = country_vessel_table[2].find_elements_by_tag_name(\"td\")[i].text\n",
    "    wwl_vessel_flag = country_vessel_table[3].find_elements_by_tag_name(\"td\")[i].text\n",
    "    date_type_no = 0\n",
    "    date_type = \"None\"\n",
    "    for j in range(0, table_rows):\n",
    "        wwl_vessel_class =  country_vessel_table[j].find_elements_by_tag_name(\"td\")[0].get_attribute(\"class\")\n",
    "#         print(wwl_vessel_class)\n",
    "#         print(date_type_no)\n",
    "        if wwl_vessel_class == \"bg-color shadow\":\n",
    "            date_type_no = date_type_no + 1 \n",
    "        elif date_type_no == 1:\n",
    "            date_type = \"ETD\"\n",
    "            country = country_header_table[j].text\n",
    "            date = country_vessel_table[j].find_elements_by_tag_name(\"td\")[i].text\n",
    "#             print(country)\n",
    "#             print(date)\n",
    "            if date != ' ':\n",
    "                wwl_table_values.append([wwl_vessel_name, wwl_voyage_no, date_type, country, date])\n",
    "#                 print(wwl_table_values)\n",
    "        elif date_type_no == 2:\n",
    "            date_type = \"ETA\"\n",
    "            country = country_header_table[j].text\n",
    "            date = country_vessel_table[j].find_elements_by_tag_name(\"td\")[i].text\n",
    "            if date != ' ':\n",
    "                wwl_table_values.append([wwl_vessel_name, wwl_voyage_no, date_type, country, date])\n",
    "            \n",
    "# print(wwl_table_values)\n",
    "            "
   ]
  },
  {
   "cell_type": "code",
   "execution_count": 200,
   "metadata": {},
   "outputs": [],
   "source": [
    "# print(country_header_table[5].text)\n",
    "# print(table_columns)\n",
    "\n",
    "col_no = 0\n",
    "wwl_vessel_name = vessel_table.find_elements_by_tag_name(\"tr\")[0].find_elements_by_tag_name(\"td\")[col_no].text\n",
    "wwl_voyage_no = vessel_table.find_elements_by_tag_name(\"tr\")[1].find_elements_by_tag_name(\"td\")[col_no].text\n",
    "wwl_imo_no = vessel_table.find_elements_by_tag_name(\"tr\")[2].find_elements_by_tag_name(\"td\")[col_no].text\n",
    "wwl_vessel_flag =  vessel_table.find_elements_by_tag_name(\"tr\")[3].find_elements_by_tag_name(\"td\")[col_no].text\n",
    "# print(wwl_vessel_name)\n",
    "# print(wwl_voyage_no)\n",
    "# print(wwl_imo_no)\n",
    "# print(wwl_vessel_flag)\n",
    "\n",
    "wwl_vessel_class = vessel_table.find_elements_by_tag_name(\"tr\")[4].find_elements_by_tag_name(\"td\")[0].get_attribute(\"class\")\n",
    "\n"
   ]
  },
  {
   "cell_type": "code",
   "execution_count": 1,
   "metadata": {},
   "outputs": [
    {
     "ename": "NameError",
     "evalue": "name 'wwl_table_values' is not defined",
     "output_type": "error",
     "traceback": [
      "\u001b[1;31m---------------------------------------------------------------------------\u001b[0m",
      "\u001b[1;31mNameError\u001b[0m                                 Traceback (most recent call last)",
      "\u001b[1;32m<ipython-input-1-075c7ec7c85f>\u001b[0m in \u001b[0;36m<module>\u001b[1;34m\u001b[0m\n\u001b[0;32m      1\u001b[0m \u001b[1;31m#identify which vessels goes to Singapore\u001b[0m\u001b[1;33m\u001b[0m\u001b[1;33m\u001b[0m\u001b[1;33m\u001b[0m\u001b[0m\n\u001b[1;32m----> 2\u001b[1;33m \u001b[0msingapore_vessel\u001b[0m \u001b[1;33m=\u001b[0m \u001b[1;33m[\u001b[0m\u001b[0mentry\u001b[0m\u001b[1;33m[\u001b[0m\u001b[1;36m0\u001b[0m\u001b[1;33m]\u001b[0m \u001b[1;32mfor\u001b[0m \u001b[0mentry\u001b[0m \u001b[1;32min\u001b[0m \u001b[0mwwl_table_values\u001b[0m \u001b[1;32mif\u001b[0m \u001b[0mentry\u001b[0m\u001b[1;33m[\u001b[0m\u001b[1;36m3\u001b[0m\u001b[1;33m]\u001b[0m \u001b[1;33m==\u001b[0m \u001b[1;34m\"SINGAPORE\"\u001b[0m\u001b[1;33m]\u001b[0m\u001b[1;33m\u001b[0m\u001b[1;33m\u001b[0m\u001b[0m\n\u001b[0m\u001b[0;32m      3\u001b[0m \u001b[0mprint\u001b[0m\u001b[1;33m(\u001b[0m\u001b[0msingapore_vessel\u001b[0m\u001b[1;33m)\u001b[0m\u001b[1;33m\u001b[0m\u001b[1;33m\u001b[0m\u001b[0m\n\u001b[0;32m      4\u001b[0m \u001b[1;33m\u001b[0m\u001b[0m\n\u001b[0;32m      5\u001b[0m \u001b[1;31m#All vessels\u001b[0m\u001b[1;33m\u001b[0m\u001b[1;33m\u001b[0m\u001b[1;33m\u001b[0m\u001b[0m\n",
      "\u001b[1;31mNameError\u001b[0m: name 'wwl_table_values' is not defined"
     ]
    }
   ],
   "source": [
    "#identify which vessels goes to Singapore\n",
    "singapore_vessel = [entry[0] for entry in wwl_table_values if entry[3] == \"SINGAPORE\"]\n",
    "print(singapore_vessel)\n",
    "\n",
    "#All vessels\n",
    "wwl_vessel_list = []\n",
    "for i in range(0, table_columns):\n",
    "    wwl_vessel_name = country_vessel_table[0].find_elements_by_tag_name(\"td\")[i].text\n",
    "    wwl_vessel_list.append(wwl_vessel_name)\n",
    "    \n",
    "#identify which vessels do not go Singapore\n",
    "non_singapore_vessel = [entry for entry in wwl_vessel_list if entry not in singapore_vessel]\n",
    "# non_singapore_vessel\n"
   ]
  },
  {
   "cell_type": "code",
   "execution_count": 202,
   "metadata": {},
   "outputs": [
    {
     "data": {
      "text/plain": [
       "[['TURANDOT', 'FW905-TUR', 'ETD', 'YOKOHAMA, JAPAN', '17-May'],\n",
       " ['TURANDOT', 'FW905-TUR', 'ETD', 'SHANGHAI', '29-May'],\n",
       " ['TURANDOT', 'FW905-TUR', 'ETD', 'TIANJIN-XINGANG', '22-May'],\n",
       " ['TURANDOT', 'FW905-TUR', 'ETD', 'MASAN, KOREA', '24-May'],\n",
       " ['TURANDOT', 'FW905-TUR', 'ETD', 'SHANGHAI', '29-May'],\n",
       " ['TURANDOT', 'FW905-TUR', 'ETD', 'LAEM CHABANG, THAILAND', '04-Jun'],\n",
       " ['TURANDOT', 'FW905-TUR', 'ETD', 'SINGAPORE', '09-Jun'],\n",
       " ['TURANDOT', 'FW905-TUR', 'ETD', 'PORT KELANG', '07-Jun'],\n",
       " ['TURANDOT', 'FW905-TUR', 'ETA', 'JAKARTA/T.PRIOK', '10-Jun'],\n",
       " ['TURANDOT', 'FW905-TUR', 'ETA', 'MASAN, KOREA', '24-May'],\n",
       " ['TURANDOT', 'FW905-TUR', 'ETA', 'TIANJIN-XINGANG', '21-May'],\n",
       " ['TURANDOT', 'FW905-TUR', 'ETA', 'SHANGHAI', '28-May'],\n",
       " ['TYSLA', 'FF919-TYS', 'ETD', 'YOKOHAMA, JAPAN', '29-May'],\n",
       " ['TYSLA', 'FF919-TYS', 'ETD', 'HITACHINAKA, JAPAN', '30-May'],\n",
       " ['TYSLA', 'FF919-TYS', 'ETD', 'SHANGHAI', '20-May'],\n",
       " ['TYSLA', 'FF919-TYS', 'ETD', 'INCHON, KOREA', '22-May'],\n",
       " ['TYSLA', 'FF919-TYS', 'ETD', 'MASAN, KOREA', '25-May'],\n",
       " ['TYSLA', 'FF919-TYS', 'ETD', 'SHANGHAI', '20-May'],\n",
       " ['TYSLA', 'FF919-TYS', 'ETD', 'SINGAPORE', '13-May'],\n",
       " ['TYSLA', 'FF919-TYS', 'ETA', 'MASAN, KOREA', '24-May'],\n",
       " ['TYSLA', 'FF919-TYS', 'ETA', 'SHANGHAI', '20-May'],\n",
       " ['TYSLA', 'FF919-TYS', 'ETA', 'HITACHINAKA, JAPAN', '29-May'],\n",
       " ['TYSLA', 'FF919-TYS', 'ETA', 'YOKOHAMA, JAPAN', '28-May'],\n",
       " ['TAMESIS', 'FF921-TAM', 'ETD', 'YOKOHAMA, JAPAN', '14-Jun'],\n",
       " ['TAMESIS', 'FF921-TAM', 'ETD', 'HITACHINAKA, JAPAN', '15-Jun'],\n",
       " ['TAMESIS', 'FF921-TAM', 'ETD', 'SHANGHAI', '08-Jun'],\n",
       " ['TAMESIS', 'FF921-TAM', 'ETD', 'MASAN, KOREA', '10-Jun'],\n",
       " ['TAMESIS', 'FF921-TAM', 'ETD', 'SHANGHAI', '08-Jun'],\n",
       " ['TAMESIS', 'FF921-TAM', 'ETD', 'SINGAPORE', '02-Jun'],\n",
       " ['TAMESIS', 'FF921-TAM', 'ETA', 'MASAN, KOREA', '10-Jun'],\n",
       " ['TAMESIS', 'FF921-TAM', 'ETA', 'SHANGHAI', '07-Jun'],\n",
       " ['TAMESIS', 'FF921-TAM', 'ETA', 'HITACHINAKA, JAPAN', '15-Jun'],\n",
       " ['TAMESIS', 'FF921-TAM', 'ETA', 'YOKOHAMA, JAPAN', '14-Jun'],\n",
       " ['TURANDOT', 'WF905-TUR', 'ETD', 'LAEM CHABANG, THAILAND', '04-Jun'],\n",
       " ['TURANDOT', 'WF905-TUR', 'ETD', 'SINGAPORE', '08-Jun'],\n",
       " ['TURANDOT', 'WF905-TUR', 'ETD', 'PORT KELANG', '07-Jun'],\n",
       " ['TURANDOT', 'WF905-TUR', 'ETD', 'JAKARTA/T.PRIOK', '11-Jun'],\n",
       " ['TURANDOT', 'WF905-TUR', 'ETA', 'MASAN, KOREA', '25-Jun'],\n",
       " ['TURANDOT', 'WF905-TUR', 'ETA', 'TIANJIN-XINGANG', '22-Jun'],\n",
       " ['TURANDOT', 'WF905-TUR', 'ETA', 'SHANGHAI', '27-Jun'],\n",
       " ['TURANDOT', 'WF905-TUR', 'ETA', 'YOKOHAMA, JAPAN', '18-Jun'],\n",
       " ['PARSIFAL', 'FF923-PSF', 'ETD', 'YOKOHAMA, JAPAN', '25-Jun'],\n",
       " ['PARSIFAL', 'FF923-PSF', 'ETD', 'HITACHINAKA, JAPAN', '26-Jun'],\n",
       " ['PARSIFAL', 'FF923-PSF', 'ETD', 'SHANGHAI', '16-Jun'],\n",
       " ['PARSIFAL', 'FF923-PSF', 'ETD', 'MASAN, KOREA', '20-Jun'],\n",
       " ['PARSIFAL', 'FF923-PSF', 'ETD', 'SHANGHAI', '16-Jun'],\n",
       " ['PARSIFAL', 'FF923-PSF', 'ETD', 'SINGAPORE', '08-Jun'],\n",
       " ['PARSIFAL', 'FF923-PSF', 'ETA', 'MASAN, KOREA', '20-Jun'],\n",
       " ['PARSIFAL', 'FF923-PSF', 'ETA', 'SHANGHAI', '16-Jun'],\n",
       " ['PARSIFAL', 'FF923-PSF', 'ETA', 'HITACHINAKA, JAPAN', '26-Jun'],\n",
       " ['PARSIFAL', 'FF923-PSF', 'ETA', 'YOKOHAMA, JAPAN', '25-Jun'],\n",
       " ['TURANDOT', 'FW906-TUR', 'ETD', 'YOKOHAMA, JAPAN', '18-Jun'],\n",
       " ['TURANDOT', 'FW906-TUR', 'ETD', 'SHANGHAI', '27-Jun'],\n",
       " ['TURANDOT', 'FW906-TUR', 'ETD', 'TIANJIN-XINGANG', '22-Jun'],\n",
       " ['TURANDOT', 'FW906-TUR', 'ETD', 'MASAN, KOREA', '25-Jun'],\n",
       " ['TURANDOT', 'FW906-TUR', 'ETD', 'SHANGHAI', '27-Jun'],\n",
       " ['TURANDOT', 'FW906-TUR', 'ETD', 'LAEM CHABANG, THAILAND', '04-Jul'],\n",
       " ['TURANDOT', 'FW906-TUR', 'ETD', 'SINGAPORE', '08-Jul'],\n",
       " ['TURANDOT', 'FW906-TUR', 'ETD', 'PORT KELANG', '07-Jul'],\n",
       " ['TURANDOT', 'FW906-TUR', 'ETA', 'JAKARTA/T.PRIOK', '10-Jul'],\n",
       " ['TURANDOT', 'FW906-TUR', 'ETA', 'MASAN, KOREA', '25-Jun'],\n",
       " ['TURANDOT', 'FW906-TUR', 'ETA', 'TIANJIN-XINGANG', '22-Jun'],\n",
       " ['TURANDOT', 'FW906-TUR', 'ETA', 'SHANGHAI', '27-Jun'],\n",
       " ['TARAGO', 'FF925-TGO', 'ETD', 'YOKOHAMA, JAPAN', '11-Jul'],\n",
       " ['TARAGO', 'FF925-TGO', 'ETD', 'HITACHINAKA, JAPAN', '12-Jul'],\n",
       " ['TARAGO', 'FF925-TGO', 'ETD', 'SHANGHAI', '03-Jul'],\n",
       " ['TARAGO', 'FF925-TGO', 'ETD', 'MASAN, KOREA', '07-Jul'],\n",
       " ['TARAGO', 'FF925-TGO', 'ETD', 'SHANGHAI', '03-Jul'],\n",
       " ['TARAGO', 'FF925-TGO', 'ETD', 'SINGAPORE', '25-Jun'],\n",
       " ['TARAGO', 'FF925-TGO', 'ETA', 'MASAN, KOREA', '07-Jul'],\n",
       " ['TARAGO', 'FF925-TGO', 'ETA', 'SHANGHAI', '03-Jul'],\n",
       " ['TARAGO', 'FF925-TGO', 'ETA', 'YOKOHAMA, JAPAN', '11-Jul'],\n",
       " ['TURANDOT', 'WF906-TUR', 'ETD', 'LAEM CHABANG, THAILAND', '04-Jul'],\n",
       " ['TURANDOT', 'WF906-TUR', 'ETD', 'SINGAPORE', '08-Jul'],\n",
       " ['TURANDOT', 'WF906-TUR', 'ETD', 'PORT KELANG', '07-Jul'],\n",
       " ['TURANDOT', 'WF906-TUR', 'ETD', 'JAKARTA/T.PRIOK', '10-Jul'],\n",
       " ['TURANDOT', 'WF906-TUR', 'ETA', 'YOKOHAMA, JAPAN', '18-Jul'],\n",
       " ['SALOME', 'FF927-SAM', 'ETD', 'YOKOHAMA, JAPAN', '25-Jul'],\n",
       " ['SALOME', 'FF927-SAM', 'ETD', 'HITACHINAKA, JAPAN', '26-Jul'],\n",
       " ['SALOME', 'FF927-SAM', 'ETD', 'SHANGHAI', '18-Jul'],\n",
       " ['SALOME', 'FF927-SAM', 'ETD', 'MASAN, KOREA', '20-Jul'],\n",
       " ['SALOME', 'FF927-SAM', 'ETD', 'SHANGHAI', '18-Jul'],\n",
       " ['SALOME', 'FF927-SAM', 'ETD', 'SINGAPORE', '10-Jul'],\n",
       " ['SALOME', 'FF927-SAM', 'ETA', 'MASAN, KOREA', '20-Jul'],\n",
       " ['SALOME', 'FF927-SAM', 'ETA', 'SHANGHAI', '18-Jul'],\n",
       " ['SALOME', 'FF927-SAM', 'ETA', 'HITACHINAKA, JAPAN', '26-Jul'],\n",
       " ['SALOME', 'FF927-SAM', 'ETA', 'YOKOHAMA, JAPAN', '25-Jul']]"
      ]
     },
     "execution_count": 202,
     "metadata": {},
     "output_type": "execute_result"
    }
   ],
   "source": [
    "#Remove non-singapore vessels schedule from wwl_table_values\n",
    "wwl_singapore_vessel_table = [entry for entry in wwl_table_values if entry[0] in singapore_vessel]\n",
    "wwl_singapore_vessel_table"
   ]
  },
  {
   "cell_type": "code",
   "execution_count": null,
   "metadata": {},
   "outputs": [],
   "source": []
  }
 ],
 "metadata": {
  "kernelspec": {
   "display_name": "Python 3",
   "language": "python",
   "name": "python3"
  },
  "language_info": {
   "codemirror_mode": {
    "name": "ipython",
    "version": 3
   },
   "file_extension": ".py",
   "mimetype": "text/x-python",
   "name": "python",
   "nbconvert_exporter": "python",
   "pygments_lexer": "ipython3",
   "version": "3.7.3"
  }
 },
 "nbformat": 4,
 "nbformat_minor": 2
}
