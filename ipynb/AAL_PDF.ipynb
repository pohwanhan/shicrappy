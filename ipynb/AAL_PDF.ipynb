{
 "cells": [
  {
   "cell_type": "code",
   "execution_count": null,
   "metadata": {},
   "outputs": [],
   "source": [
    "#pip install ghostscript\n",
    "#pip install camelot-py\n",
    "#pip install cv2"
   ]
  },
  {
   "cell_type": "code",
   "execution_count": 22,
   "metadata": {},
   "outputs": [],
   "source": [
    "import re"
   ]
  },
  {
   "cell_type": "code",
   "execution_count": 23,
   "metadata": {},
   "outputs": [],
   "source": [
    "import camelot\n",
    "import ghostscript\n",
    "import numpy as np\n",
    "import re\n",
    "\n",
    "AAL_pdf = camelot.read_pdf('AAL-Asia-to-Australia-Schedule-23.05.2019.pdf', flavor = 'stream')\n",
    "AAL_pdf_table = AAL_pdf[0]\n"
   ]
  },
  {
   "cell_type": "code",
   "execution_count": 24,
   "metadata": {},
   "outputs": [
    {
     "name": "stdout",
     "output_type": "stream",
     "text": [
      "[['', '', 'Asia to Australia Sailing Schedule\\nAsia to Australia Sailing Schedule', '', '', '', ''], ['', '', '', '', '', '', '23/05/2019'], ['', '', '', 'AUSTRALIA EAST COAST SERVICE', '', '', ''], ['', 'AAL', 'MV', 'AAL', 'AAL', 'MV', 'AAL'], ['AUSTRALIA EAST COAST', '', '', '', '', '', ''], ['', 'Shanghai', 'Warnow Mars', 'Hong Kong', 'Shanghai', 'Warnow Mars', 'Hong Kong'], ['SERVICE', '', '', '', '', '', ''], ['', '904ES', '905ES', '906ES', '907ES', '908ES', '909ES'], ['JP', '', '', '', '', '', ''], ['Kobe**', '-', '-', '-', '30/06', '01/08', '01/09'], ['Yokohama**', '-', '-', '-', '-', '-', '-'], ['KR', '', '', '', '', '', ''], ['Pusan', '(04/04)', '(01/05)', '02/06', '03/07', '03/08', '03/09'], ['Incheon', '(08/04)', '(06/05)', '04/06', '05/07', '06/08', '06/09'], ['CN', '', '', '', '', '', ''], ['Bayuquan**', '-', '-', '12/06', '13/07', '15/08', '16/09'], ['Tianjin', '(13/04)', '(11/05)', '08/06', '09/07', '11/08', '11/09'], ['Shanghai', '(20/04)', '(22/05)', '16/06', '16/07', '19/08', '19/09'], ['TW', '', '', '', '', '', ''], ['Kaohsiung**', '(28/04)', '24/05', '22/06', '22/07', '26/08', '26/09'], ['AU', '', '', '', '', '', ''], ['Brisbane', '(17/05)', '12/06', '10/07', '10/08', '13/09', '15/10'], ['Newcastle', '(20/05)', '18/06', '16/07', '15/08', '19/09', '20/10'], ['Port Kembla**', '-', '21/06', '19/07', '19/08', '22/09', '24/10'], ['Melbourne', '22/05', '25/06', '24/07', '24/08', '27/09', '29/10'], ['Adelaide**', '27/05', '30/06', '30/07', '30/08', '03/10', '03/11'], ['', '', '', 'AUSTRALIA WEST COAST SERVICE', '', '', ''], ['', 'AAL', 'AAL', 'AAL', 'AAL', 'AAL', 'AAL'], ['AUSTRALIA WEST COAST', '', '', '', '', '', ''], ['', 'Nanjing', 'Dampier', 'Dampier', 'Nanjing', 'Dampier', 'Nanjing'], ['SERVICE', '', '', '', '', '', ''], ['', '02WS19', '03WS19', '04WS19', '05WS19', '06WS19', '07WS19'], ['JP', '', '', '', '', '', ''], ['Kobe', '-', '(21/04)', '-', '-', '-', '-'], ['KR', '', '', '', '', '', ''], ['Pusan', '(07/03)', '(17/04)', '07/06', '13/07', '14/08', '12/09'], ['CN', '', '', '', '', '', ''], ['Tianjin**', '-', '-', '05/06', '11/07', '12/08', '10/09'], ['Shanghai', '(12/03)', '(26/04)', '14/06', '16/07', '18/08', '16/09'], ['TW', '', '', '', '', '', ''], ['Kaohsiung', '(16/03)', '(29/04)', '22/06', '21/07', '22/08', '20/09'], ['TH', '', '', '', '', '', ''], ['Mat Ta Phut', '-', '(06/05)', '-', '-', '-', '-'], ['SG', '', '', '', '', '', ''], ['Singapore**', '-', '-', '27/06', '26/07', '27/08', '25/09'], ['AU', '', '', '', '', '', ''], ['Darwin**', '-', '-', '-', '-', '-', '-'], ['Port Hedland/Dampier**', '-', '-', '03/07', '01/08', '02/09', '01/10'], ['Fremantle', '(06/04)', '(21/05)', '05/07', '03/08', '04/09', '03/10'], ['Dates without brackets are ETA (estimated time of arrival); Dates in brackets are ATD (actual time departure)', '', '', '', '', '', '']]\n"
     ]
    }
   ],
   "source": [
    "#converts table to list\n",
    "AAL_pdf_table_list = AAL_pdf_table.data\n",
    "print(AAL_pdf_table_list)"
   ]
  },
  {
   "cell_type": "code",
   "execution_count": 25,
   "metadata": {},
   "outputs": [],
   "source": [
    "# length of rows and cols\n",
    "AAL_rows = len(AAL_pdf_table_list)\n",
    "AAL_cols = len(AAL_pdf_table_list[0])"
   ]
  },
  {
   "cell_type": "code",
   "execution_count": 26,
   "metadata": {},
   "outputs": [],
   "source": [
    "def is_table_header(array):\n",
    "    # pop 4 index\n",
    "    arr = array.copy()\n",
    "    value = arr.pop(3)\n",
    "    all_empty = all(\"\" == s or s.isspace() for s in arr)\n",
    "    if (value != \"\" and all_empty) and (not value.isspace()):\n",
    "        return True\n",
    "    else: \n",
    "        return False\n",
    "    \n",
    "#use the next 5 list for the vessel\n",
    "\n",
    "#remaining to be used for schedule until next table header found \n",
    "    #identify which one is country\n",
    "def is_country(lists):\n",
    "    copy_lists = lists.copy()\n",
    "    value = copy_lists.pop(0)\n",
    "    all_empty = all(\"\" == s or s.isspace() for s in copy_lists)\n",
    "    if (value != \"\" and all_empty) and (not value.isspace()):\n",
    "        return True\n",
    "    else: \n",
    "        return False\n",
    "    \n",
    "       "
   ]
  },
  {
   "cell_type": "code",
   "execution_count": 27,
   "metadata": {},
   "outputs": [
    {
     "name": "stdout",
     "output_type": "stream",
     "text": [
      "['', '', '', '', '', '', '23/05/2019']\n",
      "23/05/2019\n"
     ]
    }
   ],
   "source": [
    "AAL_schedules = []\n",
    "# print(AAL_pdf_table_list[1])\n",
    "AAL_schedule_update = AAL_pdf_table_list[1][AAL_cols-1] \n",
    "# print(AAL_schedule_update)\n",
    "\n",
    "\n",
    "no_of_table = 0\n",
    "for i in range(0, AAL_rows): \n",
    "    AAL_list = AAL_pdf_table_list[i]\n",
    "    if is_table_header(AAL_list):\n",
    "        no_of_table = no_of_table + 1 \n",
    "        AAL_schedules.append([])\n",
    "    elif no_of_table == 0:\n",
    "        continue           \n",
    "    else: \n",
    "        AAL_schedules[no_of_table - 1].append(AAL_list)\n",
    "\n",
    "# print(AAL_schedules)"
   ]
  },
  {
   "cell_type": "code",
   "execution_count": 28,
   "metadata": {},
   "outputs": [],
   "source": [
    "AAL_vessel_schedules = []\n",
    "\n",
    "for i in range(0, len(AAL_schedules)):\n",
    "    AAL_schedule = AAL_schedules[i]\n",
    "    #construct vessel name\n",
    "    vessel_names = [m+\" \"+str(n) for m,n in zip(AAL_schedule[0], AAL_schedule[2])]   \n",
    "    vessel_voyages = AAL_schedule[4]\n",
    "    # construct headers\n",
    "    for j in range(1, len(vessel_names)):\n",
    "        vessel_name = vessel_names[j]\n",
    "        vessel_voyage = vessel_voyages[j]\n",
    "        current_country = None\n",
    "        for k in range(5, len(AAL_schedule)):\n",
    "            if is_country(AAL_schedule[k]):\n",
    "                current_country = AAL_schedule[k][0]\n",
    "            else:\n",
    "                region = AAL_schedule[k][0]\n",
    "                date = AAL_schedule[k][j]\n",
    "                if date != '-':\n",
    "                    AAL_vessel_schedules.append([vessel_name, vessel_voyage, current_country, region, date, AAL_schedule_update])\n",
    "                    \n",
    "# print(AAL_vessel_schedules)         "
   ]
  },
  {
   "cell_type": "code",
   "execution_count": 29,
   "metadata": {},
   "outputs": [
    {
     "name": "stdout",
     "output_type": "stream",
     "text": [
      "[['AAL Dampier', '04WS19', 'KR', 'Pusan', '07/06', '23/05/2019'], ['AAL Dampier', '04WS19', 'CN', 'Tianjin**', '05/06', '23/05/2019'], ['AAL Dampier', '04WS19', 'CN', 'Shanghai', '14/06', '23/05/2019'], ['AAL Dampier', '04WS19', 'TW', 'Kaohsiung', '22/06', '23/05/2019'], ['AAL Dampier', '04WS19', 'SG', 'Singapore**', '27/06', '23/05/2019'], ['AAL Dampier', '04WS19', 'AU', 'Port Hedland/Dampier**', '03/07', '23/05/2019'], ['AAL Dampier', '04WS19', 'AU', 'Fremantle', '05/07', '23/05/2019'], ['AAL Nanjing', '05WS19', 'KR', 'Pusan', '13/07', '23/05/2019'], ['AAL Nanjing', '05WS19', 'CN', 'Tianjin**', '11/07', '23/05/2019'], ['AAL Nanjing', '05WS19', 'CN', 'Shanghai', '16/07', '23/05/2019'], ['AAL Nanjing', '05WS19', 'TW', 'Kaohsiung', '21/07', '23/05/2019'], ['AAL Nanjing', '05WS19', 'SG', 'Singapore**', '26/07', '23/05/2019'], ['AAL Nanjing', '05WS19', 'AU', 'Port Hedland/Dampier**', '01/08', '23/05/2019'], ['AAL Nanjing', '05WS19', 'AU', 'Fremantle', '03/08', '23/05/2019'], ['AAL Dampier', '06WS19', 'KR', 'Pusan', '14/08', '23/05/2019'], ['AAL Dampier', '06WS19', 'CN', 'Tianjin**', '12/08', '23/05/2019'], ['AAL Dampier', '06WS19', 'CN', 'Shanghai', '18/08', '23/05/2019'], ['AAL Dampier', '06WS19', 'TW', 'Kaohsiung', '22/08', '23/05/2019'], ['AAL Dampier', '06WS19', 'SG', 'Singapore**', '27/08', '23/05/2019'], ['AAL Dampier', '06WS19', 'AU', 'Port Hedland/Dampier**', '02/09', '23/05/2019'], ['AAL Dampier', '06WS19', 'AU', 'Fremantle', '04/09', '23/05/2019'], ['AAL Nanjing', '07WS19', 'KR', 'Pusan', '12/09', '23/05/2019'], ['AAL Nanjing', '07WS19', 'CN', 'Tianjin**', '10/09', '23/05/2019'], ['AAL Nanjing', '07WS19', 'CN', 'Shanghai', '16/09', '23/05/2019'], ['AAL Nanjing', '07WS19', 'TW', 'Kaohsiung', '20/09', '23/05/2019'], ['AAL Nanjing', '07WS19', 'SG', 'Singapore**', '25/09', '23/05/2019'], ['AAL Nanjing', '07WS19', 'AU', 'Port Hedland/Dampier**', '01/10', '23/05/2019'], ['AAL Nanjing', '07WS19', 'AU', 'Fremantle', '03/10', '23/05/2019']]\n",
      "28\n"
     ]
    }
   ],
   "source": [
    "\n",
    "# AAL_singapore_voyage = [entry[1] for entry in AAL_vessel_schedules if re.search(\"[Singapore]\", entry[3])]\n",
    "AAL_singapore_voyage = [entry[1] for entry in AAL_vessel_schedules if entry[3] == \"Singapore**\"]\n",
    "# print(AAL_singapore_voyage)\n",
    "\n",
    "AAL_singapore_schedules = [entry for entry in AAL_vessel_schedules if entry[1] in AAL_singapore_voyage]\n",
    "\n",
    "print(AAL_singapore_schedules)\n",
    "print(len(AAL_singapore_schedules))"
   ]
  },
  {
   "cell_type": "code",
   "execution_count": 9,
   "metadata": {},
   "outputs": [
    {
     "name": "stdout",
     "output_type": "stream",
     "text": [
      "all tests pass.\n"
     ]
    }
   ],
   "source": [
    "def is_table_header(arr):\n",
    "    # pop 4 index\n",
    "    value = arr.pop(3)\n",
    "    all_empty = all(\"\" == s or s.isspace() for s in arr)\n",
    "    if (value != \"\" and all_empty) and (not value.isspace()):\n",
    "        return True\n",
    "    else: \n",
    "        return False\n",
    "    \n",
    "header = [\"\", \"\", \"\", \"Something\", \"\", \"\", \"\", \"\"]\n",
    "result = is_table_header(header)\n",
    "if result == False:\n",
    "    raise Exception(\"should be a header\")\n",
    "\n",
    "not_header = [\"\", \"\", \"\", \"\", \"\", \"\", \"\"]\n",
    "result = is_table_header(not_header)\n",
    "if result == True:\n",
    "    raise Exception(\"should not be a header\")\n",
    "\n",
    "    \n",
    "print(\"all tests pass.\")"
   ]
  },
  {
   "cell_type": "code",
   "execution_count": null,
   "metadata": {},
   "outputs": [],
   "source": []
  }
 ],
 "metadata": {
  "kernelspec": {
   "display_name": "Python 3",
   "language": "python",
   "name": "python3"
  },
  "language_info": {
   "codemirror_mode": {
    "name": "ipython",
    "version": 3
   },
   "file_extension": ".py",
   "mimetype": "text/x-python",
   "name": "python",
   "nbconvert_exporter": "python",
   "pygments_lexer": "ipython3",
   "version": "3.7.3"
  }
 },
 "nbformat": 4,
 "nbformat_minor": 2
}
