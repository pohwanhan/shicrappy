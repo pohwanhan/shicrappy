{
 "cells": [
  {
   "cell_type": "code",
   "execution_count": 41,
   "metadata": {},
   "outputs": [],
   "source": [
    "import selenium\n",
    "import camelot\n",
    "import ghostscript\n",
    "import numpy as np\n",
    "import re\n",
    "\n",
    "from selenium import webdriver"
   ]
  },
  {
   "cell_type": "code",
   "execution_count": 2,
   "metadata": {},
   "outputs": [],
   "source": [
    "driver = webdriver.Firefox()\n",
    "driver.get(\"https://www.bintangmas.com.sg/ship-schedules/\")"
   ]
  },
  {
   "cell_type": "code",
   "execution_count": 32,
   "metadata": {},
   "outputs": [
    {
     "name": "stdout",
     "output_type": "stream",
     "text": [
      "<class 'list'>\n"
     ]
    }
   ],
   "source": [
    "bintangmas_table = driver.find_element_by_xpath(\"//table[@id='tablepress-1']\")\n",
    "#only contains country\n",
    "bintangmas_header = bintangmas_table.find_element_by_tag_name(\"thead\").find_elements_by_tag_name(\"th\")\n",
    "bintangmas_no_of_col = len(bintangmas_header)\n",
    "bintangmas_body = bintangmas_table.find_element_by_tag_name(\"tbody\").find_elements_by_tag_name(\"tr\")\n",
    "bintangmas_no_of_row = len(bintangmas_body)\n",
    "\n",
    "print(bintangmas_body)\n",
    "# print(bintangmas_no_of_col)\n",
    "# print(bintangmas_no_of_row)"
   ]
  },
  {
   "cell_type": "code",
   "execution_count": 77,
   "metadata": {},
   "outputs": [
    {
     "name": "stdout",
     "output_type": "stream",
     "text": [
      "1906E\n",
      "1907/E\n",
      "1907E\n",
      "[['Eline Enterprise', '1906E', 'Singapore', '19.05.19'], ['Eline Enterprise', '1906E', 'Muara', '24.05.19'], ['Eline Enterprise', '1906E', 'Labuan', '25.05.19'], ['Eline Enterprise', '1906E', 'Kinabalu', '27.05.19'], ['Eponyma', '1907/E', 'Singapore', '28.05.19'], ['Eponyma', '1907/E', 'Muara', '01.06.19'], ['Eponyma', '1907/E', 'Labuan', '02.06.19'], ['Eponyma', '1907/E', 'Kinabalu', '04.06.19'], ['Eline Enterprise', '1907E', 'Singapore', '04.06.19'], ['Eline Enterprise', '1907E', 'Muara', '08.06.19'], ['Eline Enterprise', '1907E', 'Labuan', '09.06.19'], ['Eline Enterprise', '1907E', 'Kinabalu', '11.06.19']]\n"
     ]
    }
   ],
   "source": [
    "# print(bintangmas_body.find_elements_by_tag_name(\"td\"))\n",
    "bintangmas_schedule = []\n",
    "\n",
    "for i in range(0, bintangmas_no_of_row):\n",
    "    bintangmas_body_col = bintangmas_body[i].find_elements_by_tag_name(\"td\")\n",
    "    vessel_name = bintangmas_body_col[0].text\n",
    "#     print(vessel_name)\n",
    "    vessel_voyage = bintangmas_body_col[1].text\n",
    "#     print(vessel_voyage)\n",
    "    for j in range(2, bintangmas_no_of_col):\n",
    "        country = bintangmas_header[j].text        \n",
    "        country_name = re.findall(r\"\\w+$\", country)[0]\n",
    "#         print(country_name)\n",
    "        date = bintangmas_body_col[j].text\n",
    "#         print(date)\n",
    "        if date != \"-\" or date.isspace():\n",
    "            bintangmas_schedule.append([vessel_name, vessel_voyage, country_name, date])\n",
    "            \n",
    "#                                         'INDUCEMENT SERVICES TO KUCHING, BINTULU & MIRI'])\n",
    "            \n",
    "print(bintangmas_schedule)          \n",
    "          \n",
    "#there is a simple daily schedule table"
   ]
  },
  {
   "cell_type": "code",
   "execution_count": null,
   "metadata": {},
   "outputs": [],
   "source": []
  }
 ],
 "metadata": {
  "kernelspec": {
   "display_name": "Python 3",
   "language": "python",
   "name": "python3"
  },
  "language_info": {
   "codemirror_mode": {
    "name": "ipython",
    "version": 3
   },
   "file_extension": ".py",
   "mimetype": "text/x-python",
   "name": "python",
   "nbconvert_exporter": "python",
   "pygments_lexer": "ipython3",
   "version": "3.7.3"
  }
 },
 "nbformat": 4,
 "nbformat_minor": 2
}
