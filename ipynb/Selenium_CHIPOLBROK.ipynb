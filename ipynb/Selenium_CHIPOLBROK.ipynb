{
 "cells": [
  {
   "cell_type": "code",
   "execution_count": 2,
   "metadata": {},
   "outputs": [],
   "source": [
    "import selenium\n",
    "from selenium import webdriver"
   ]
  },
  {
   "cell_type": "code",
   "execution_count": 3,
   "metadata": {},
   "outputs": [],
   "source": [
    "# To link to the website\n",
    "\n",
    "driver = webdriver.Firefox()\n",
    "driver.get(\"http://chipolbrok.com.pl/schedule/schedule/3/INTRA%20ASIA\")"
   ]
  },
  {
   "cell_type": "code",
   "execution_count": 5,
   "metadata": {},
   "outputs": [
    {
     "name": "stdout",
     "output_type": "stream",
     "text": [
      "[['Parandowski', '41', 'Mumbai', '05.05.19'], ['Parandowski', '41', 'Singapore', '17.05.19'], ['Parandowski', '41', 'Cagayan De Oro', '22.05.19'], ['Parandowski', '41', 'Ningbo', '29.05.19'], ['Parandowski', '41', 'Shanghai', '03.06.19'], ['Parandowski', '41', 'Lianyungang', '07.06.19'], ['Parandowski', '41', 'Penglai', '07.06.19'], ['Parandowski', '41', 'Dalian', '07.06.19'], ['Parandowski', '41', 'Busan', '12.06.19'], ['Cp Sun', '78', 'Mumbai', '16.05.19'], ['Cp Sun', '78', 'Singapore', '29.05.19'], ['Cp Sun', '78', 'Batam', '30.05.19'], ['Cp Sun', '78', 'Bintulu', '03.06.19'], ['Cp Sun', '78', 'Basuo', '08.06.19'], ['Cp Sun', '78', 'Haiphong', '12.06.19'], ['Cp Sun', '78', 'Shanghai', '17.06.19'], ['Cp Sun', '78', 'Busan', '22.06.19'], ['Cp Atlantic', '15', 'Mumbai', '21.06.19'], ['Cp Atlantic', '15', 'Xiamen', '09.07.19'], ['Cp Atlantic', '15', 'Nantong', '13.07.19'], ['Cp Atlantic', '15', 'Shanghai', '15.07.19'], ['Cp Atlantic', '15', 'Lianyungang', '20.07.19'], ['Cp Atlantic', '15', 'Penglai', '23.07.19'], ['Cp Atlantic', '15', 'Dalian', '25.07.19'], ['Cp Atlantic', '15', 'Busan', '28.07.19']]\n"
     ]
    }
   ],
   "source": [
    "#get schedule type\n",
    "schedule_type = 'Intra-Asia'\n",
    "\n",
    "#get table\n",
    "table = driver.find_elements_by_class_name(\"table--schedule\")[0].find_element_by_tag_name(\"table\").find_element_by_tag_name(\"tbody\")\n",
    "\n",
    "table_rows = table.find_elements_by_tag_name(\"tr\")\n",
    "table_header = table_rows[0]\n",
    "table_columns = table_header.find_elements_by_tag_name(\"td\")\n",
    "\n",
    "chipolbrok_table_values = []\n",
    "\n",
    "\n",
    "for i in range(1, len(table_rows)):\n",
    "    row = table_rows[i].find_elements_by_tag_name(\"td\")\n",
    "    vessel_name = row[1].text\n",
    "    voyage_num = row[2].text\n",
    "    for j in range(3, len(table_columns)): \n",
    "        country_name = table_columns[j].text\n",
    "        date = row[j].text\n",
    "        if date != '':\n",
    "            chipolbrok_table_values.append([vessel_name, voyage_num, country_name, date])\n",
    "    \n",
    "print(chipolbrok_table_values)"
   ]
  },
  {
   "cell_type": "code",
   "execution_count": null,
   "metadata": {},
   "outputs": [],
   "source": []
  }
 ],
 "metadata": {
  "kernelspec": {
   "display_name": "Python 3",
   "language": "python",
   "name": "python3"
  },
  "language_info": {
   "codemirror_mode": {
    "name": "ipython",
    "version": 3
   },
   "file_extension": ".py",
   "mimetype": "text/x-python",
   "name": "python",
   "nbconvert_exporter": "python",
   "pygments_lexer": "ipython3",
   "version": "3.7.3"
  }
 },
 "nbformat": 4,
 "nbformat_minor": 2
}
